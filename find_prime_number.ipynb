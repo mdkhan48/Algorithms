{
 "cells": [
  {
   "cell_type": "code",
   "execution_count": 3,
   "metadata": {},
   "outputs": [
    {
     "name": "stdout",
     "output_type": "stream",
     "text": [
      "[2, 3, 5, 7, 11, 13, 17]\n"
     ]
    }
   ],
   "source": [
    "# Write a program that takes an integer argument and retums all the primes between 1 and that\n",
    "# integer. For example, if the input is 18, you should retum <2,3,5,7,77,13,17>.\n",
    "\n",
    "# Given n, retllrn all prines up to and incTuding n.\n",
    "def generate_primes (n) :\n",
    "    primes = []\n",
    "    # is_prine[p] represents if p is prime or not. InitiaTTy, set each to\n",
    "    # true, expecting 0 and 1. IIen use sieving to e-limjnate nonprines.\n",
    "    is_prime = [False, False] + [True] * (n - 1)\n",
    "    for p in range(2,n+1):\n",
    "        if is_prime [p] :\n",
    "            primes.append(p)\n",
    "            # Sieve p's multiples.\n",
    "            for i in range(p, n + 1, p):\n",
    "                is_prime[i] = False\n",
    "    return primes\n",
    "\n",
    "print(generate_primes(18))"
   ]
  }
 ],
 "metadata": {
  "kernelspec": {
   "display_name": "Python 3",
   "language": "python",
   "name": "python3"
  },
  "language_info": {
   "codemirror_mode": {
    "name": "ipython",
    "version": 3
   },
   "file_extension": ".py",
   "mimetype": "text/x-python",
   "name": "python",
   "nbconvert_exporter": "python",
   "pygments_lexer": "ipython3",
   "version": "3.7.4"
  }
 },
 "nbformat": 4,
 "nbformat_minor": 2
}
