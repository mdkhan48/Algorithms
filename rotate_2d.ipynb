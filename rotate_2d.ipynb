{
 "cells": [
  {
   "cell_type": "code",
   "execution_count": 15,
   "metadata": {},
   "outputs": [
    {
     "name": "stdout",
     "output_type": "stream",
     "text": [
      "16 is equal to =  16\n",
      "1 swap 13\n",
      "13 swap 16\n",
      "16 swap 4\n",
      "4 swap 1\n",
      "original array [[1, 2, 3, 4], [5, 6, 7, 8], [9, 10, 11, 12], [13, 14, 15, 16]]\n",
      "rotated array [[13, 9, 5, 1], [14, 10, 6, 2], [15, 11, 7, 3], [16, 12, 8, 4]]\n"
     ]
    }
   ],
   "source": [
    "#####  rotate 2D array. Specifically, image is rotated by\n",
    "####   90 degrees clockwise.\n",
    "\n",
    "img_array = [[1, 2, 3, 4],\n",
    "            [5, 6, 7, 8],\n",
    "            [9, 10, 11, 12],\n",
    "            [13, 14, 15, 16]]\n",
    "\n",
    "#tilde operator ~\n",
    "i=0\n",
    "j=0\n",
    "print(img_array[~j][~i],\"is equal to = \", img_array[-(j+1)][-(i+1)])\n",
    "# A[~j] = A[-(j+1)]\n",
    "print(img_array[i][j], \"swap\", img_array[~j][i])\n",
    "print(img_array[~j][i], \"swap\", img_array[~i][~j])\n",
    "print(img_array[~i][~j], \"swap\", img_array[j][~i])\n",
    "print(img_array[j][~i], \"swap\", img_array[i][j])\n",
    "\n",
    "\n",
    "print(\"original array\", img_array)\n",
    "\n",
    "\n",
    "img_size = len(img_array) - 1 # = 3\n",
    "\n",
    "for i in range(0, img_size - 1): # 0-2, A[0][3] is already swapped\n",
    "    for j in range(i, img_size - i):\n",
    "        # 4 way swap\n",
    "        img_array[i][j],img_array[~j][i],img_array[~i][~j],img_array[j][~i] = img_array[~j][i],img_array[~i][~j],img_array[j][~i],img_array[i][j]\n",
    "\n",
    "print(\"rotated array\", img_array)"
   ]
  }
 ],
 "metadata": {
  "kernelspec": {
   "display_name": "Python 3",
   "language": "python",
   "name": "python3"
  },
  "language_info": {
   "codemirror_mode": {
    "name": "ipython",
    "version": 3
   },
   "file_extension": ".py",
   "mimetype": "text/x-python",
   "name": "python",
   "nbconvert_exporter": "python",
   "pygments_lexer": "ipython3",
   "version": "3.7.4"
  }
 },
 "nbformat": 4,
 "nbformat_minor": 2
}
