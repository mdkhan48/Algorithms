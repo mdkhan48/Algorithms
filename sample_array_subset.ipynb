{
 "cells": [
  {
   "cell_type": "code",
   "execution_count": 7,
   "metadata": {},
   "outputs": [
    {
     "name": "stdout",
     "output_type": "stream",
     "text": [
      "2\n",
      "8\n",
      "2\n",
      "5\n",
      "4\n",
      "input array [11, 43, 5, 19, 12, 3, 43, 78, 7, 23, 11, 10, 4]\n",
      "random subsample [11, 43, 5, 19, 12, 3, 43, 78, 7, 23, 11, 10, 4]\n"
     ]
    }
   ],
   "source": [
    "########  Problem Statement ##########\n",
    "# This problem is motivated by the need for a company to select a random subset of its customers to\n",
    "# roll out a new feature to. For example, a social networking company may want to see the effect of\n",
    "# a new UI on page visit duration without taking the chance of alienating all its users if the rollout is\n",
    "# unsuccessful.\n",
    "# Implement an algorithm that takes as input an array of distinct elements and a size, and returns\n",
    "# a subset of the given size of the array elements. All subsets should be equally likely. Retum the\n",
    "# result in input array itself.\n",
    "\n",
    "\n",
    "\"\"\" As a concrete example, let the input be / = (3,7,5,11) and the size be 3. In the first iteration, we\n",
    "use the random number generator to pick a random integer in the interval [0,3]. Let the retumed\n",
    "random number be 2. We swap .4[0] with A[2]-now the array is <5,7,3,11). Now we pick a\n",
    "random integer in the interval [1,3]. Let the retumed random number be 3. We swap A[1] with\n",
    "A[3]-now the resulting array is <5,1L,3,7). Now we pick a random integer in the interval [2,3]. Let\n",
    "the retumed random number be 2. \\rVhen we swap A[2] with itself the resulting array is unchanged.\n",
    "The random subset consists of the first three entries, i.e., {5, 1.1,3}.\n",
    "\"\"\"\n",
    "import random\n",
    "import numpy as np\n",
    "\n",
    "def random_sample(A,k):\n",
    "    for i in range(k):\n",
    "        r = random.randint(i, len(A) - 1)\n",
    "        print(r)\n",
    "        A[i],A[r] = A[r],A[i]\n",
    "    return A\n",
    "\n",
    "#A = np.random.randint(1,100,10)\n",
    "A = [5,7,11,3,12,19,43,78,43,23,11,10,4]\n",
    "rand_arr = random_sample(A,5)\n",
    "\n",
    "print(\"input array\",A)\n",
    "print(\"random subsample\", rand_arr)"
   ]
  }
 ],
 "metadata": {
  "kernelspec": {
   "display_name": "Python 3",
   "language": "python",
   "name": "python3"
  },
  "language_info": {
   "codemirror_mode": {
    "name": "ipython",
    "version": 3
   },
   "file_extension": ".py",
   "mimetype": "text/x-python",
   "name": "python",
   "nbconvert_exporter": "python",
   "pygments_lexer": "ipython3",
   "version": "3.7.4"
  }
 },
 "nbformat": 4,
 "nbformat_minor": 2
}
