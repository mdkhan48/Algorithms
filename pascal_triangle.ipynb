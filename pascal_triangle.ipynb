{
 "cells": [
  {
   "cell_type": "code",
   "execution_count": 2,
   "metadata": {},
   "outputs": [
    {
     "name": "stdout",
     "output_type": "stream",
     "text": [
      "[[1], [1, 1], [1, 2, 1], [1, 3, 3, 1], [1, 4, 6, 4, 1]]\n"
     ]
    }
   ],
   "source": [
    "\"\"\"Pascal triangle\n",
    "          | 1 |\n",
    "        | 1 | 1 |\n",
    "      | 1 | 2 | 1 |\n",
    "    | 1 | 3 | 3 | 1 |\n",
    "    \n",
    "Each row contains one more entry than the previous one\n",
    "each entry is adjacent to one or two numbers in the row below it.\"\"\"\n",
    "\n",
    "num_of_rows = 5\n",
    "\n",
    "pascal_tri = [[1] * (i+1) for i in range (num_of_rows)] # generate 2d array of 1 with pascan triangle shape\n",
    "\n",
    "for i in range(0,num_of_rows):\n",
    "    for j in range(1,i):\n",
    "        pascal_tri[i][j] = pascal_tri[i-1][j-1] + pascal_tri[i-1][j]\n",
    "        \n",
    "print(pascal_tri)"
   ]
  }
 ],
 "metadata": {
  "kernelspec": {
   "display_name": "Python 3",
   "language": "python",
   "name": "python3"
  },
  "language_info": {
   "codemirror_mode": {
    "name": "ipython",
    "version": 3
   },
   "file_extension": ".py",
   "mimetype": "text/x-python",
   "name": "python",
   "nbconvert_exporter": "python",
   "pygments_lexer": "ipython3",
   "version": "3.7.4"
  }
 },
 "nbformat": 4,
 "nbformat_minor": 2
}
