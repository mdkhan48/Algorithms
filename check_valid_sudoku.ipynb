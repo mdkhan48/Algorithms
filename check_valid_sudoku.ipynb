{
 "cells": [
  {
   "cell_type": "code",
   "execution_count": 31,
   "metadata": {
    "scrolled": true
   },
   "outputs": [
    {
     "name": "stdout",
     "output_type": "stream",
     "text": [
      "This is Valid Sudoku board\n"
     ]
    }
   ],
   "source": [
    "\"\"\"Check whether a 9 x9 2D arcay representing a \n",
    "partially completed Sudoku is valid.The objective is to fill 9by9 grid\n",
    "with digits subject to the constraint that column, row, and\n",
    "of a the nine sub-grids that compose the contains unique in\n",
    "integers [1,9].\"\"\"\n",
    "\n",
    "input = [[2,9,0,0,0,0,0,7,0],\n",
    "       [3,0,6,0,0,8,4,0,0],\n",
    "       [8,0,0,0,4,0,0,0,2],\n",
    "       [0,2,3,0,0,1,0,0,7],\n",
    "       [0,0,0,0,8,0,0,0,0],\n",
    "       [1,0,0,9,5,0,0,6,0],\n",
    "       [7,0,0,0,9,0,0,0,1],\n",
    "       [0,0,1,2,0,0,3,0,6],\n",
    "       [0,3,0,0,0,0,0,5,9]]\n",
    "\n",
    "n = len(input)\n",
    "\n",
    "for i in range(n):\n",
    "    row = []\n",
    "    column = []\n",
    "    block = []\n",
    "    row_cube = 3 * (i//3)\n",
    "    column_cube = 3 * (i%3)\n",
    "    \n",
    "    for j in range(n):\n",
    "        ## check for same number in a row ##\n",
    "        if input[i][j]!=0 and input[i][j] in row:\n",
    "            #return False\n",
    "            print(\"False\")\n",
    "        row.append(input[i][j])\n",
    "        #print(\"row\",row)\n",
    "        \n",
    "        ## check for same number in a row ##\n",
    "        if input[j][i]!=0 and input[j][i] in column:\n",
    "            #return False\n",
    "            print(\"False\")\n",
    "        column.append(input[j][i])\n",
    "        #print(\"col\",column)\n",
    "        \n",
    "        rc= row_cube+j//3\n",
    "        cc = column_cube + j%3\n",
    "        if input[rc][cc] in block and input[rc][cc]!= 0:\n",
    "            #return False\n",
    "            print(\"False\")\n",
    "        block.append(input[rc][cc])\n",
    "        #print(block)\n",
    "    \n",
    "#return True\n",
    "print(\"This is Valid Sudoku board\")\n",
    "            \n"
   ]
  }
 ],
 "metadata": {
  "kernelspec": {
   "display_name": "Python 3",
   "language": "python",
   "name": "python3"
  },
  "language_info": {
   "codemirror_mode": {
    "name": "ipython",
    "version": 3
   },
   "file_extension": ".py",
   "mimetype": "text/x-python",
   "name": "python",
   "nbconvert_exporter": "python",
   "pygments_lexer": "ipython3",
   "version": "3.7.4"
  }
 },
 "nbformat": 4,
 "nbformat_minor": 2
}
